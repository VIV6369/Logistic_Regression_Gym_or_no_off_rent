{
 "cells": [
  {
   "cell_type": "markdown",
   "id": "0a6bc087",
   "metadata": {},
   "source": [
    "### Brooklyn gym prediction\n",
    "\n",
    "Is there a connection between rent price in brooklyn and does the apartment has gym? If so whats the threshold?\n",
    "\n",
    "Logistic Regression should answer those questions.\n"
   ]
  },
  {
   "cell_type": "code",
   "execution_count": 28,
   "id": "e9545cdc",
   "metadata": {},
   "outputs": [
    {
     "data": {
      "text/html": [
       "<div>\n",
       "<style scoped>\n",
       "    .dataframe tbody tr th:only-of-type {\n",
       "        vertical-align: middle;\n",
       "    }\n",
       "\n",
       "    .dataframe tbody tr th {\n",
       "        vertical-align: top;\n",
       "    }\n",
       "\n",
       "    .dataframe thead th {\n",
       "        text-align: right;\n",
       "    }\n",
       "</style>\n",
       "<table border=\"1\" class=\"dataframe\">\n",
       "  <thead>\n",
       "    <tr style=\"text-align: right;\">\n",
       "      <th></th>\n",
       "      <th>rental_id</th>\n",
       "      <th>rent</th>\n",
       "      <th>bedrooms</th>\n",
       "      <th>bathrooms</th>\n",
       "      <th>size_sqft</th>\n",
       "      <th>min_to_subway</th>\n",
       "      <th>floor</th>\n",
       "      <th>building_age_yrs</th>\n",
       "      <th>no_fee</th>\n",
       "      <th>has_roofdeck</th>\n",
       "      <th>has_washer_dryer</th>\n",
       "      <th>has_doorman</th>\n",
       "      <th>has_elevator</th>\n",
       "      <th>has_dishwasher</th>\n",
       "      <th>has_patio</th>\n",
       "      <th>has_gym</th>\n",
       "      <th>neighborhood</th>\n",
       "      <th>borough</th>\n",
       "    </tr>\n",
       "  </thead>\n",
       "  <tbody>\n",
       "    <tr>\n",
       "      <th>0</th>\n",
       "      <td>2869</td>\n",
       "      <td>3600</td>\n",
       "      <td>3.0</td>\n",
       "      <td>2</td>\n",
       "      <td>900</td>\n",
       "      <td>4</td>\n",
       "      <td>1.0</td>\n",
       "      <td>15</td>\n",
       "      <td>1</td>\n",
       "      <td>0</td>\n",
       "      <td>0</td>\n",
       "      <td>0</td>\n",
       "      <td>0</td>\n",
       "      <td>0</td>\n",
       "      <td>0</td>\n",
       "      <td>0</td>\n",
       "      <td>Williamsburg</td>\n",
       "      <td>Brooklyn</td>\n",
       "    </tr>\n",
       "    <tr>\n",
       "      <th>1</th>\n",
       "      <td>4318</td>\n",
       "      <td>3900</td>\n",
       "      <td>3.0</td>\n",
       "      <td>2</td>\n",
       "      <td>1000</td>\n",
       "      <td>4</td>\n",
       "      <td>9.0</td>\n",
       "      <td>8</td>\n",
       "      <td>0</td>\n",
       "      <td>0</td>\n",
       "      <td>0</td>\n",
       "      <td>0</td>\n",
       "      <td>1</td>\n",
       "      <td>0</td>\n",
       "      <td>0</td>\n",
       "      <td>0</td>\n",
       "      <td>Greenwood</td>\n",
       "      <td>Brooklyn</td>\n",
       "    </tr>\n",
       "    <tr>\n",
       "      <th>2</th>\n",
       "      <td>6265</td>\n",
       "      <td>2700</td>\n",
       "      <td>2.0</td>\n",
       "      <td>1</td>\n",
       "      <td>900</td>\n",
       "      <td>4</td>\n",
       "      <td>2.0</td>\n",
       "      <td>96</td>\n",
       "      <td>0</td>\n",
       "      <td>0</td>\n",
       "      <td>0</td>\n",
       "      <td>0</td>\n",
       "      <td>0</td>\n",
       "      <td>0</td>\n",
       "      <td>0</td>\n",
       "      <td>0</td>\n",
       "      <td>Gowanus</td>\n",
       "      <td>Brooklyn</td>\n",
       "    </tr>\n",
       "    <tr>\n",
       "      <th>3</th>\n",
       "      <td>24</td>\n",
       "      <td>4900</td>\n",
       "      <td>1.0</td>\n",
       "      <td>1</td>\n",
       "      <td>1216</td>\n",
       "      <td>6</td>\n",
       "      <td>3.0</td>\n",
       "      <td>88</td>\n",
       "      <td>0</td>\n",
       "      <td>0</td>\n",
       "      <td>0</td>\n",
       "      <td>0</td>\n",
       "      <td>0</td>\n",
       "      <td>0</td>\n",
       "      <td>0</td>\n",
       "      <td>0</td>\n",
       "      <td>Brooklyn Heights</td>\n",
       "      <td>Brooklyn</td>\n",
       "    </tr>\n",
       "    <tr>\n",
       "      <th>4</th>\n",
       "      <td>9481</td>\n",
       "      <td>3900</td>\n",
       "      <td>0.0</td>\n",
       "      <td>1</td>\n",
       "      <td>1100</td>\n",
       "      <td>3</td>\n",
       "      <td>4.0</td>\n",
       "      <td>85</td>\n",
       "      <td>1</td>\n",
       "      <td>0</td>\n",
       "      <td>0</td>\n",
       "      <td>0</td>\n",
       "      <td>0</td>\n",
       "      <td>0</td>\n",
       "      <td>0</td>\n",
       "      <td>0</td>\n",
       "      <td>Williamsburg</td>\n",
       "      <td>Brooklyn</td>\n",
       "    </tr>\n",
       "  </tbody>\n",
       "</table>\n",
       "</div>"
      ],
      "text/plain": [
       "   rental_id  rent  bedrooms  bathrooms  size_sqft  min_to_subway  floor  \\\n",
       "0       2869  3600       3.0          2        900              4    1.0   \n",
       "1       4318  3900       3.0          2       1000              4    9.0   \n",
       "2       6265  2700       2.0          1        900              4    2.0   \n",
       "3         24  4900       1.0          1       1216              6    3.0   \n",
       "4       9481  3900       0.0          1       1100              3    4.0   \n",
       "\n",
       "   building_age_yrs  no_fee  has_roofdeck  has_washer_dryer  has_doorman  \\\n",
       "0                15       1             0                 0            0   \n",
       "1                 8       0             0                 0            0   \n",
       "2                96       0             0                 0            0   \n",
       "3                88       0             0                 0            0   \n",
       "4                85       1             0                 0            0   \n",
       "\n",
       "   has_elevator  has_dishwasher  has_patio  has_gym      neighborhood  \\\n",
       "0             0               0          0        0      Williamsburg   \n",
       "1             1               0          0        0         Greenwood   \n",
       "2             0               0          0        0           Gowanus   \n",
       "3             0               0          0        0  Brooklyn Heights   \n",
       "4             0               0          0        0      Williamsburg   \n",
       "\n",
       "    borough  \n",
       "0  Brooklyn  \n",
       "1  Brooklyn  \n",
       "2  Brooklyn  \n",
       "3  Brooklyn  \n",
       "4  Brooklyn  "
      ]
     },
     "execution_count": 28,
     "metadata": {},
     "output_type": "execute_result"
    }
   ],
   "source": [
    "import pandas as pd\n",
    "import numpy as np\n",
    "import matplotlib.pyplot as plt\n",
    "from sklearn.linear_model import LogisticRegression\n",
    "from sklearn.preprocessing import StandardScaler\n",
    "from sklearn.model_selection import train_test_split\n",
    "from sklearn.metrics import confusion_matrix\n",
    "from sklearn.metrics import accuracy_score\n",
    "from sklearn.metrics import f1_score\n",
    "from sklearn.metrics import precision_score\n",
    "from sklearn.metrics import recall_score\n",
    "\n",
    "df = pd.read_csv('brooklyn.csv')\n",
    "df.head()"
   ]
  },
  {
   "cell_type": "markdown",
   "id": "3ce9f53d",
   "metadata": {},
   "source": [
    "We look only at two columns from brooklyn dataset. \n",
    "* **Rent** - rent price in $\n",
    "* **has_gym** - 0 for no gym, 1 for a gym in the apartment. "
   ]
  },
  {
   "cell_type": "markdown",
   "id": "5f3efddd",
   "metadata": {},
   "source": [
    "First we will have to scale our data. To bring it onto same scale. Then we will split data into two parts: \"Train\" and \"Test\".\n",
    "* \"Train\" - will be used to train model\n",
    "* \"Test\" - will be used to test data"
   ]
  },
  {
   "cell_type": "code",
   "execution_count": 9,
   "id": "264b8e69",
   "metadata": {},
   "outputs": [],
   "source": [
    "# Separate out X (rent) and y (has_gym)\n",
    "X = df[['rent']]\n",
    "y = df[['has_gym']]"
   ]
  },
  {
   "cell_type": "code",
   "execution_count": 13,
   "id": "191984a2",
   "metadata": {},
   "outputs": [],
   "source": [
    "# Scale data\n",
    "scaler = StandardScaler()\n",
    "scaler.fit(X)\n",
    "X = scaler.transform(X)"
   ]
  },
  {
   "cell_type": "code",
   "execution_count": 14,
   "id": "8dcf5f3e",
   "metadata": {},
   "outputs": [],
   "source": [
    "# Split data into training and testing sets\n",
    "X_train, X_test, y_train, y_test = train_test_split(X,y, test_size=0.25, random_state=6)"
   ]
  },
  {
   "cell_type": "code",
   "execution_count": 21,
   "id": "1f0b7ac0",
   "metadata": {},
   "outputs": [
    {
     "data": {
      "text/plain": [
       "LogisticRegression()"
      ]
     },
     "execution_count": 21,
     "metadata": {},
     "output_type": "execute_result"
    }
   ],
   "source": [
    "# Create and fit the logistic regression model\n",
    "model = LogisticRegression()\n",
    "model.fit(X_train, y_train.values.ravel())"
   ]
  },
  {
   "cell_type": "code",
   "execution_count": 37,
   "id": "4d5fc8dd",
   "metadata": {},
   "outputs": [
    {
     "name": "stdout",
     "output_type": "stream",
     "text": [
      "Predicted classes:  [0 0 0 0 0 0 0 0 0 0 0 0 0 0 0 0 0 0 0 0 0 0 0 0 0 0 0 0 0 0 0 0 0 0 0 0 0\n",
      " 0 0 0 0 0 0 0 0 0 0 0 0 0 0 0 0 0 0 0 0 0 0 0 0 0 1 0 0 0 0 0 0 0 0 0 0 0\n",
      " 0 0 0 0 0 0 0 0 0 0 0 0 0 0 0 0 0 0 0 0 0 0 0 0 0 0 0 0 0 0 0 0 0 0 0 0 0\n",
      " 0 0 0 0 0 0 0 0 0 0 0 0 0 0 0 0 0 0 0 0 0 0 0 0 0 0 0 0 0 0 0 0 0 0 0 0 0\n",
      " 0 0 0 0 0 0 0 0 0 0 0 0 0 0 0 0 0 0 0 0 0 0 0 0 0 0 0 0 0 0 0 0 0 0 0 0 0\n",
      " 0 0 0 0 0 0 0 0 0 0 0 0 0 0 0 0 0 0 0 0 0 0 0 0 0 0 0 0 0 0 0 0 0 0 0 0 0\n",
      " 0 0 0 0 0 0 0 0 0 0 0 0 0 0 0 0 0 0 0 0 0 0 0 0 0 0 0 0 0 0 0 0]\n",
      "True classes:  [0 0 0 0 0 0 0 0 0 0 0 0 0 0 0 0 0 0 0 0 0 0 0 0 0 0 0 0 0 0 0 1 0 0 0 0 0\n",
      " 0 0 0 0 0 0 0 0 0 0 0 0 0 0 0 0 0 0 1 0 0 0 1 0 0 1 0 0 0 0 0 0 0 0 0 0 0\n",
      " 0 0 0 0 0 1 0 0 1 0 0 0 0 0 0 1 0 0 0 0 0 0 0 0 0 0 0 0 0 0 0 0 0 0 0 0 0\n",
      " 0 0 0 0 0 0 0 0 0 0 0 0 0 0 0 0 0 0 0 0 0 0 0 0 0 0 1 0 0 0 0 0 0 0 1 0 1\n",
      " 0 0 0 0 0 0 0 0 0 0 1 0 1 0 0 0 0 0 0 0 1 0 0 1 0 0 0 0 0 0 0 0 0 1 0 0 0\n",
      " 0 0 0 0 0 0 0 0 0 0 0 0 0 0 0 1 0 0 0 1 0 0 0 0 0 0 0 0 1 0 0 0 0 0 0 0 0\n",
      " 0 0 0 0 0 0 0 0 0 0 0 0 0 0 0 1 0 0 0 0 0 0 0 0 0 0 0 0 0 0 0 0]\n"
     ]
    }
   ],
   "source": [
    "# Save and print predicted classes\n",
    "y_pred = model.predict(X_test)\n",
    "print(\"Predicted classes: \", y_pred)\n",
    "\n",
    "# Print out the true outcomes for the test data\n",
    "print(\"True classes: \", y_test.values.ravel())"
   ]
  },
  {
   "cell_type": "code",
   "execution_count": 24,
   "id": "64d9d52e",
   "metadata": {},
   "outputs": [
    {
     "name": "stdout",
     "output_type": "stream",
     "text": [
      "Confusion matrix: \n",
      "[[235   0]\n",
      " [ 18   1]]\n"
     ]
    }
   ],
   "source": [
    "# Print out the confusion matrix\n",
    "print(\"Confusion matrix: \")\n",
    "print(confusion_matrix(y_test,y_pred))"
   ]
  },
  {
   "cell_type": "code",
   "execution_count": 26,
   "id": "cb25c2f2",
   "metadata": {},
   "outputs": [
    {
     "name": "stdout",
     "output_type": "stream",
     "text": [
      "Accuracy:  0.9291338582677166\n"
     ]
    }
   ],
   "source": [
    "# Print out accuracy\n",
    "print(\"Accuracy score: \", accuracy_score(y_test, y_pred))"
   ]
  },
  {
   "cell_type": "code",
   "execution_count": 29,
   "id": "882448a1",
   "metadata": {},
   "outputs": [
    {
     "name": "stdout",
     "output_type": "stream",
     "text": [
      "Precision:  1.0\n"
     ]
    }
   ],
   "source": [
    "# Print out precision\n",
    "print(\"Precision score: \", precision_score(y_test,y_pred))"
   ]
  },
  {
   "cell_type": "code",
   "execution_count": 31,
   "id": "5c168f5d",
   "metadata": {},
   "outputs": [
    {
     "name": "stdout",
     "output_type": "stream",
     "text": [
      "Recall score:  0.05263157894736842\n"
     ]
    }
   ],
   "source": [
    "# Print out recall\n",
    "print(\"Recall score: \", recall_score(y_test, y_pred))"
   ]
  },
  {
   "cell_type": "code",
   "execution_count": 27,
   "id": "672a10cc",
   "metadata": {},
   "outputs": [
    {
     "name": "stdout",
     "output_type": "stream",
     "text": [
      "F1 score 0.1\n"
     ]
    }
   ],
   "source": [
    "# Print out F1 score\n",
    "print(\"F1 score\", f1_score(y_test, y_pred))"
   ]
  },
  {
   "cell_type": "code",
   "execution_count": 33,
   "id": "36c0b3f6",
   "metadata": {},
   "outputs": [
    {
     "name": "stdout",
     "output_type": "stream",
     "text": [
      "[0.09308779 0.077156   0.07563252 0.09400324 0.05587666 0.07870755\n",
      " 0.0615404  0.05228791 0.06061174 0.08006465 0.08258099 0.06310499\n",
      " 0.09021188 0.05255606 0.06525764 0.07601078 0.06531034 0.1470054\n",
      " 0.07336968 0.06248234 0.0637592  0.05761009 0.06061174 0.0698112\n",
      " 0.10768977 0.05587666 0.12904478 0.09218034 0.08511864 0.0618529\n",
      " 0.06485052 0.06842199 0.06311776 0.05096647 0.10162147 0.05228791\n",
      " 0.09218034 0.10261136 0.07051554 0.06572015 0.077156   0.05761009\n",
      " 0.0605503  0.07266815 0.0977462  0.12309825 0.05761009 0.33897499\n",
      " 0.06760081 0.10768977 0.05149121 0.05587666 0.06311776 0.0618529\n",
      " 0.09218034 0.08012829 0.06061174 0.05530983 0.05364168 0.05309625\n",
      " 0.05096647 0.05879363 0.65196357 0.06506035 0.06638616 0.05202106\n",
      " 0.07413671 0.05149121 0.05419239 0.05419239 0.07004994 0.08108842\n",
      " 0.0504468  0.06506035 0.05364168 0.1307531  0.06179028 0.06061174\n",
      " 0.05581973 0.21154481 0.08715823 0.07325233 0.05474842 0.0551746\n",
      " 0.06311776 0.07510586 0.05502845 0.06835321 0.10360977 0.06705844\n",
      " 0.06122938 0.06911336 0.06835321 0.08189652 0.05309625 0.06116735\n",
      " 0.06506035 0.05702674 0.05819904 0.09400324 0.05096647 0.12544808\n",
      " 0.0581872  0.05939391 0.06773704 0.07480642 0.07194397 0.05999993\n",
      " 0.08520275 0.08690088 0.06693697 0.06953129 0.07639077 0.08969927\n",
      " 0.07413671 0.15390413 0.13337654 0.06311776 0.10553044 0.07274094\n",
      " 0.09218034 0.05309625 0.07413671 0.0693499  0.06152793 0.08436502\n",
      " 0.07376703 0.05363072 0.07563252 0.07563252 0.07707916 0.06440672\n",
      " 0.06967111 0.08189652 0.06122938 0.07398863 0.0754817  0.06572015\n",
      " 0.08028759 0.06440672 0.06506035 0.06311776 0.06311776 0.077156\n",
      " 0.06395282 0.06842199 0.06061174 0.06170271 0.0618529  0.05446974\n",
      " 0.11851201 0.06311776 0.06572015 0.06570689 0.07563252 0.07413671\n",
      " 0.05939391 0.0618529  0.06248234 0.06638616 0.05837682 0.05587666\n",
      " 0.06638616 0.0698112  0.06842199 0.31521984 0.07320837 0.06439371\n",
      " 0.10758607 0.07761849 0.0688222  0.06061174 0.06122938 0.06693697\n",
      " 0.05419239 0.08511864 0.07122645 0.06440672 0.06840823 0.05819904\n",
      " 0.09870248 0.12298175 0.05581973 0.0867297  0.10064007 0.24979343\n",
      " 0.0618529  0.0504468  0.06440672 0.08862958 0.05469258 0.06842199\n",
      " 0.06835321 0.06082108 0.09209003 0.06343773 0.06545548 0.04942246\n",
      " 0.05309625 0.07540639 0.0698112  0.1443184  0.05761009 0.06273579\n",
      " 0.06572015 0.07122645 0.09391134 0.04993214 0.07949398 0.0517555\n",
      " 0.09576486 0.06572015 0.06835321 0.19409768 0.08394897 0.05702674\n",
      " 0.07870755 0.10162147 0.05364168 0.05819904 0.07266815 0.09218034\n",
      " 0.09870248 0.0698112  0.07870755 0.07792824 0.12904478 0.08950552\n",
      " 0.07563252 0.06248234 0.0977462  0.08189652 0.05939391 0.05587666\n",
      " 0.07413671 0.05250232 0.20796575 0.08861214 0.06672152 0.07488118\n",
      " 0.08950552 0.0664665  0.0535869  0.08520275 0.07669602 0.06486361\n",
      " 0.08767499 0.09539156 0.07870755 0.06572015 0.08271196 0.10665671\n",
      " 0.06179028 0.06572015]\n"
     ]
    }
   ],
   "source": [
    "# Print out the predicted probabilities for the test data\n",
    "print(model.predict_proba(X_test)[:,1])"
   ]
  },
  {
   "cell_type": "code",
   "execution_count": 57,
   "id": "c3b6cb85",
   "metadata": {},
   "outputs": [
    {
     "data": {
      "image/png": "[encoded data removed]",
      "text/plain": [
       "<Figure size 432x288 with 1 Axes>"
      ]
     },
     "metadata": {
      "needs_background": "light"
     },
     "output_type": "display_data"
    },
    {
     "data": {
      "text/plain": [
       "<Figure size 432x288 with 0 Axes>"
      ]
     },
     "metadata": {},
     "output_type": "display_data"
    }
   ],
   "source": [
    "# Plug sample data into fitted model\n",
    "probability = model.predict_proba(X_test)[:,1]\n",
    "\n",
    "# Plot exam data\n",
    "plt.scatter(X_test,y_test,color='black')\n",
    "\n",
    "# Plot logistic curve\n",
    "plt.plot(X_test, probability, color='red', linewidth=1)\n",
    "plt.xlabel('Rent')\n",
    "plt.ylabel('Probability of gym')\n",
    "plt.show()\n",
    "plt.clf()"
   ]
  },
  {
   "cell_type": "markdown",
   "id": "7114f420",
   "metadata": {},
   "source": [
    "#### Conclusion\n",
    "\n",
    "Even though model accuracy is at 0.92 its recall and F1 score are very low. It provided with 18 False Negative values and only one True Positive (out of 19) on the test data. Given all that we can conclude that rent price can not be used as classifier for the gym availability. "
   ]
  }
 ],
 "metadata": {
  "kernelspec": {
   "display_name": "Python 3 (ipykernel)",
   "language": "python",
   "name": "python3"
  },
  "language_info": {
   "codemirror_mode": {
    "name": "ipython",
    "version": 3
   },
   "file_extension": ".py",
   "mimetype": "text/x-python",
   "name": "python",
   "nbconvert_exporter": "python",
   "pygments_lexer": "ipython3",
   "version": "3.9.7"
  }
 },
 "nbformat": 4,
 "nbformat_minor": 5
}
