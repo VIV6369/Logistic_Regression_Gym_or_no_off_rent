{
 "cells": [
  {
   "cell_type": "markdown",
   "id": "0a6bc087",
   "metadata": {},
   "source": [
    "### Brooklyn gym prediction\n",
    "\n",
    "Is there a connection between rent price in Brooklyn and does the apartment has gym? If so whats the threshold?\n",
    "\n",
    "Logistic Regression should answer those questions.\n"
   ]
  },
  {
   "cell_type": "code",
   "execution_count": 1,
   "id": "e9545cdc",
   "metadata": {},
   "outputs": [
    {
     "data": {
      "text/html": [
       "<div>\n",
       "<style scoped>\n",
       "    .dataframe tbody tr th:only-of-type {\n",
       "        vertical-align: middle;\n",
       "    }\n",
       "\n",
       "    .dataframe tbody tr th {\n",
       "        vertical-align: top;\n",
       "    }\n",
       "\n",
       "    .dataframe thead th {\n",
       "        text-align: right;\n",
       "    }\n",
       "</style>\n",
       "<table border=\"1\" class=\"dataframe\">\n",
       "  <thead>\n",
       "    <tr style=\"text-align: right;\">\n",
       "      <th></th>\n",
       "      <th>rental_id</th>\n",
       "      <th>rent</th>\n",
       "      <th>bedrooms</th>\n",
       "      <th>bathrooms</th>\n",
       "      <th>size_sqft</th>\n",
       "      <th>min_to_subway</th>\n",
       "      <th>floor</th>\n",
       "      <th>building_age_yrs</th>\n",
       "      <th>no_fee</th>\n",
       "      <th>has_roofdeck</th>\n",
       "      <th>has_washer_dryer</th>\n",
       "      <th>has_doorman</th>\n",
       "      <th>has_elevator</th>\n",
       "      <th>has_dishwasher</th>\n",
       "      <th>has_patio</th>\n",
       "      <th>has_gym</th>\n",
       "      <th>neighborhood</th>\n",
       "      <th>borough</th>\n",
       "    </tr>\n",
       "  </thead>\n",
       "  <tbody>\n",
       "    <tr>\n",
       "      <th>0</th>\n",
       "      <td>2869</td>\n",
       "      <td>3600</td>\n",
       "      <td>3.0</td>\n",
       "      <td>2</td>\n",
       "      <td>900</td>\n",
       "      <td>4</td>\n",
       "      <td>1.0</td>\n",
       "      <td>15</td>\n",
       "      <td>1</td>\n",
       "      <td>0</td>\n",
       "      <td>0</td>\n",
       "      <td>0</td>\n",
       "      <td>0</td>\n",
       "      <td>0</td>\n",
       "      <td>0</td>\n",
       "      <td>0</td>\n",
       "      <td>Williamsburg</td>\n",
       "      <td>Brooklyn</td>\n",
       "    </tr>\n",
       "    <tr>\n",
       "      <th>1</th>\n",
       "      <td>4318</td>\n",
       "      <td>3900</td>\n",
       "      <td>3.0</td>\n",
       "      <td>2</td>\n",
       "      <td>1000</td>\n",
       "      <td>4</td>\n",
       "      <td>9.0</td>\n",
       "      <td>8</td>\n",
       "      <td>0</td>\n",
       "      <td>0</td>\n",
       "      <td>0</td>\n",
       "      <td>0</td>\n",
       "      <td>1</td>\n",
       "      <td>0</td>\n",
       "      <td>0</td>\n",
       "      <td>0</td>\n",
       "      <td>Greenwood</td>\n",
       "      <td>Brooklyn</td>\n",
       "    </tr>\n",
       "    <tr>\n",
       "      <th>2</th>\n",
       "      <td>6265</td>\n",
       "      <td>2700</td>\n",
       "      <td>2.0</td>\n",
       "      <td>1</td>\n",
       "      <td>900</td>\n",
       "      <td>4</td>\n",
       "      <td>2.0</td>\n",
       "      <td>96</td>\n",
       "      <td>0</td>\n",
       "      <td>0</td>\n",
       "      <td>0</td>\n",
       "      <td>0</td>\n",
       "      <td>0</td>\n",
       "      <td>0</td>\n",
       "      <td>0</td>\n",
       "      <td>0</td>\n",
       "      <td>Gowanus</td>\n",
       "      <td>Brooklyn</td>\n",
       "    </tr>\n",
       "    <tr>\n",
       "      <th>3</th>\n",
       "      <td>24</td>\n",
       "      <td>4900</td>\n",
       "      <td>1.0</td>\n",
       "      <td>1</td>\n",
       "      <td>1216</td>\n",
       "      <td>6</td>\n",
       "      <td>3.0</td>\n",
       "      <td>88</td>\n",
       "      <td>0</td>\n",
       "      <td>0</td>\n",
       "      <td>0</td>\n",
       "      <td>0</td>\n",
       "      <td>0</td>\n",
       "      <td>0</td>\n",
       "      <td>0</td>\n",
       "      <td>0</td>\n",
       "      <td>Brooklyn Heights</td>\n",
       "      <td>Brooklyn</td>\n",
       "    </tr>\n",
       "    <tr>\n",
       "      <th>4</th>\n",
       "      <td>9481</td>\n",
       "      <td>3900</td>\n",
       "      <td>0.0</td>\n",
       "      <td>1</td>\n",
       "      <td>1100</td>\n",
       "      <td>3</td>\n",
       "      <td>4.0</td>\n",
       "      <td>85</td>\n",
       "      <td>1</td>\n",
       "      <td>0</td>\n",
       "      <td>0</td>\n",
       "      <td>0</td>\n",
       "      <td>0</td>\n",
       "      <td>0</td>\n",
       "      <td>0</td>\n",
       "      <td>0</td>\n",
       "      <td>Williamsburg</td>\n",
       "      <td>Brooklyn</td>\n",
       "    </tr>\n",
       "  </tbody>\n",
       "</table>\n",
       "</div>"
      ],
      "text/plain": [
       "   rental_id  rent  bedrooms  bathrooms  size_sqft  min_to_subway  floor  \\\n",
       "0       2869  3600       3.0          2        900              4    1.0   \n",
       "1       4318  3900       3.0          2       1000              4    9.0   \n",
       "2       6265  2700       2.0          1        900              4    2.0   \n",
       "3         24  4900       1.0          1       1216              6    3.0   \n",
       "4       9481  3900       0.0          1       1100              3    4.0   \n",
       "\n",
       "   building_age_yrs  no_fee  has_roofdeck  has_washer_dryer  has_doorman  \\\n",
       "0                15       1             0                 0            0   \n",
       "1                 8       0             0                 0            0   \n",
       "2                96       0             0                 0            0   \n",
       "3                88       0             0                 0            0   \n",
       "4                85       1             0                 0            0   \n",
       "\n",
       "   has_elevator  has_dishwasher  has_patio  has_gym      neighborhood  \\\n",
       "0             0               0          0        0      Williamsburg   \n",
       "1             1               0          0        0         Greenwood   \n",
       "2             0               0          0        0           Gowanus   \n",
       "3             0               0          0        0  Brooklyn Heights   \n",
       "4             0               0          0        0      Williamsburg   \n",
       "\n",
       "    borough  \n",
       "0  Brooklyn  \n",
       "1  Brooklyn  \n",
       "2  Brooklyn  \n",
       "3  Brooklyn  \n",
       "4  Brooklyn  "
      ]
     },
     "execution_count": 1,
     "metadata": {},
     "output_type": "execute_result"
    }
   ],
   "source": [
    "import pandas as pd\n",
    "import numpy as np\n",
    "import matplotlib.pyplot as plt\n",
    "from sklearn.linear_model import LogisticRegression\n",
    "from sklearn.preprocessing import StandardScaler\n",
    "from sklearn.model_selection import train_test_split\n",
    "from sklearn.metrics import confusion_matrix\n",
    "from sklearn.metrics import accuracy_score\n",
    "from sklearn.metrics import f1_score\n",
    "from sklearn.metrics import precision_score\n",
    "from sklearn.metrics import recall_score\n",
    "\n",
    "df = pd.read_csv('brooklyn.csv')\n",
    "df.head()"
   ]
  },
  {
   "cell_type": "markdown",
   "id": "3ce9f53d",
   "metadata": {},
   "source": [
    "We look only at two columns from brooklyn dataset. \n",
    "* **Rent** - rent price in $\n",
    "* **has_gym** - 0 for no gym, 1 for a gym in the apartment. "
   ]
  },
  {
   "cell_type": "markdown",
   "id": "5f3efddd",
   "metadata": {},
   "source": [
    "First we will have to scale our data. To bring it onto same scale. Then we will split data into two parts: \"Train\" and \"Test\".\n",
    "* \"Train\" - will be used to train model\n",
    "* \"Test\" - will be used to test data"
   ]
  },
  {
   "cell_type": "code",
   "execution_count": 2,
   "id": "264b8e69",
   "metadata": {},
   "outputs": [],
   "source": [
    "# Separate out X (rent) and y (has_gym)\n",
    "X = df[['rent']]\n",
    "y = df[['has_gym']]"
   ]
  },
  {
   "cell_type": "code",
   "execution_count": 3,
   "id": "0ccb3d3d",
   "metadata": {},
   "outputs": [],
   "source": [
    "# Split data into training and testing sets\n",
    "X_train, X_test, y_train, y_test = train_test_split(X,y, test_size=0.25, random_state=6)"
   ]
  },
  {
   "cell_type": "code",
   "execution_count": 4,
   "id": "191984a2",
   "metadata": {},
   "outputs": [],
   "source": [
    "# Scale the data\n",
    "scaler = StandardScaler()\n",
    "X_train = scaler.fit_transform(X_train)\n",
    "X_test = scaler.transform(X_test)"
   ]
  },
  {
   "cell_type": "code",
   "execution_count": 5,
   "id": "1f0b7ac0",
   "metadata": {},
   "outputs": [
    {
     "data": {
      "text/plain": [
       "LogisticRegression()"
      ]
     },
     "execution_count": 5,
     "metadata": {},
     "output_type": "execute_result"
    }
   ],
   "source": [
    "# Create and fit the logistic regression model\n",
    "model = LogisticRegression()\n",
    "model.fit(X_train, y_train.values.ravel())"
   ]
  },
  {
   "cell_type": "code",
   "execution_count": 6,
   "id": "4d5fc8dd",
   "metadata": {},
   "outputs": [
    {
     "name": "stdout",
     "output_type": "stream",
     "text": [
      "Predicted classes:  [0 0 0 0 0 0 0 0 0 0 0 0 0 0 0 0 0 0 0 0 0 0 0 0 0 0 0 0 0 0 0 0 0 0 0 0 0\n",
      " 0 0 0 0 0 0 0 0 0 0 0 0 0 0 0 0 0 0 0 0 0 0 0 0 0 1 0 0 0 0 0 0 0 0 0 0 0\n",
      " 0 0 0 0 0 0 0 0 0 0 0 0 0 0 0 0 0 0 0 0 0 0 0 0 0 0 0 0 0 0 0 0 0 0 0 0 0\n",
      " 0 0 0 0 0 0 0 0 0 0 0 0 0 0 0 0 0 0 0 0 0 0 0 0 0 0 0 0 0 0 0 0 0 0 0 0 0\n",
      " 0 0 0 0 0 0 0 0 0 0 0 0 0 0 0 0 0 0 0 0 0 0 0 0 0 0 0 0 0 0 0 0 0 0 0 0 0\n",
      " 0 0 0 0 0 0 0 0 0 0 0 0 0 0 0 0 0 0 0 0 0 0 0 0 0 0 0 0 0 0 0 0 0 0 0 0 0\n",
      " 0 0 0 0 0 0 0 0 0 0 0 0 0 0 0 0 0 0 0 0 0 0 0 0 0 0 0 0 0 0 0 0]\n",
      "True classes:  [0 0 0 0 0 0 0 0 0 0 0 0 0 0 0 0 0 0 0 0 0 0 0 0 0 0 0 0 0 0 0 1 0 0 0 0 0\n",
      " 0 0 0 0 0 0 0 0 0 0 0 0 0 0 0 0 0 0 1 0 0 0 1 0 0 1 0 0 0 0 0 0 0 0 0 0 0\n",
      " 0 0 0 0 0 1 0 0 1 0 0 0 0 0 0 1 0 0 0 0 0 0 0 0 0 0 0 0 0 0 0 0 0 0 0 0 0\n",
      " 0 0 0 0 0 0 0 0 0 0 0 0 0 0 0 0 0 0 0 0 0 0 0 0 0 0 1 0 0 0 0 0 0 0 1 0 1\n",
      " 0 0 0 0 0 0 0 0 0 0 1 0 1 0 0 0 0 0 0 0 1 0 0 1 0 0 0 0 0 0 0 0 0 1 0 0 0\n",
      " 0 0 0 0 0 0 0 0 0 0 0 0 0 0 0 1 0 0 0 1 0 0 0 0 0 0 0 0 1 0 0 0 0 0 0 0 0\n",
      " 0 0 0 0 0 0 0 0 0 0 0 0 0 0 0 1 0 0 0 0 0 0 0 0 0 0 0 0 0 0 0 0]\n"
     ]
    }
   ],
   "source": [
    "# Save and print predicted classes\n",
    "y_pred = model.predict(X_test)\n",
    "print(\"Predicted classes: \", y_pred)\n",
    "\n",
    "# Print out the true outcomes for the test data\n",
    "print(\"True classes: \", y_test.values.ravel())"
   ]
  },
  {
   "cell_type": "code",
   "execution_count": 7,
   "id": "64d9d52e",
   "metadata": {},
   "outputs": [
    {
     "name": "stdout",
     "output_type": "stream",
     "text": [
      "Confusion matrix: \n",
      "[[235   0]\n",
      " [ 18   1]]\n"
     ]
    }
   ],
   "source": [
    "# Print out the confusion matrix\n",
    "print(\"Confusion matrix: \")\n",
    "print(confusion_matrix(y_test,y_pred))"
   ]
  },
  {
   "cell_type": "code",
   "execution_count": 8,
   "id": "cb25c2f2",
   "metadata": {},
   "outputs": [
    {
     "name": "stdout",
     "output_type": "stream",
     "text": [
      "Accuracy score:  0.9291338582677166\n"
     ]
    }
   ],
   "source": [
    "# Print out accuracy\n",
    "print(\"Accuracy score: \", accuracy_score(y_test, y_pred))"
   ]
  },
  {
   "cell_type": "code",
   "execution_count": 9,
   "id": "882448a1",
   "metadata": {},
   "outputs": [
    {
     "name": "stdout",
     "output_type": "stream",
     "text": [
      "Precision score:  1.0\n"
     ]
    }
   ],
   "source": [
    "# Print out precision\n",
    "print(\"Precision score: \", precision_score(y_test,y_pred))"
   ]
  },
  {
   "cell_type": "code",
   "execution_count": 10,
   "id": "5c168f5d",
   "metadata": {},
   "outputs": [
    {
     "name": "stdout",
     "output_type": "stream",
     "text": [
      "Recall score:  0.05263157894736842\n"
     ]
    }
   ],
   "source": [
    "# Print out recall\n",
    "print(\"Recall score: \", recall_score(y_test, y_pred))"
   ]
  },
  {
   "cell_type": "code",
   "execution_count": 11,
   "id": "672a10cc",
   "metadata": {},
   "outputs": [
    {
     "name": "stdout",
     "output_type": "stream",
     "text": [
      "F1 score 0.1\n"
     ]
    }
   ],
   "source": [
    "# Print out F1 score\n",
    "print(\"F1 score\", f1_score(y_test, y_pred))"
   ]
  },
  {
   "cell_type": "code",
   "execution_count": 12,
   "id": "36c0b3f6",
   "metadata": {},
   "outputs": [
    {
     "name": "stdout",
     "output_type": "stream",
     "text": [
      "[0.09310033 0.07715349 0.0756287  0.09401672 0.05585847 0.0787064\n",
      " 0.0615258  0.05226772 0.06059652 0.08006471 0.08258334 0.06309146\n",
      " 0.09022153 0.052536   0.06524564 0.07600729 0.06529838 0.14708226\n",
      " 0.07336397 0.06246838 0.06374613 0.05759295 0.06059652 0.06980263\n",
      " 0.10771799 0.05585847 0.12909845 0.09219196 0.08512336 0.06183851\n",
      " 0.06483822 0.06841235 0.06310424 0.05094559 0.10164298 0.05226772\n",
      " 0.09219196 0.10263394 0.07050753 0.06570848 0.07715349 0.05759295\n",
      " 0.06053503 0.07266187 0.09776357 0.12314457 0.05759295 0.3393313\n",
      " 0.06759054 0.10771799 0.0514706  0.05585847 0.06310424 0.06183851\n",
      " 0.09219196 0.0801284  0.06059652 0.05529132 0.05362221 0.05307649\n",
      " 0.05094559 0.05877723 0.6525874  0.0650482  0.06637499 0.05200072\n",
      " 0.07413163 0.0514706  0.05417323 0.05417323 0.07004156 0.08108939\n",
      " 0.05042565 0.0650482  0.05362221 0.13080892 0.06177585 0.06059652\n",
      " 0.05580151 0.21171322 0.08716489 0.07324652 0.05472959 0.05515601\n",
      " 0.06310424 0.0751016  0.05500978 0.06834351 0.10363345 0.06704777\n",
      " 0.06121457 0.06910425 0.06834351 0.08189824 0.05307649 0.0611525\n",
      " 0.0650482  0.05700924 0.05818226 0.09401672 0.05094559 0.12549728\n",
      " 0.05817042 0.0593779  0.06772687 0.07480191 0.0719371  0.05998431\n",
      " 0.08520755 0.0869073  0.0669262  0.0695225  0.07638761 0.08970841\n",
      " 0.07413163 0.15399025 0.13343567 0.06310424 0.10555625 0.07273471\n",
      " 0.09219196 0.05307649 0.07413163 0.06934097 0.06151332 0.08436903\n",
      " 0.07376165 0.05361125 0.0756287  0.0756287  0.07707658 0.0643941\n",
      " 0.06966243 0.08189824 0.06121457 0.07398343 0.07547776 0.06570848\n",
      " 0.08028784 0.0643941  0.0650482  0.06310424 0.06310424 0.07715349\n",
      " 0.06393988 0.06841235 0.06059652 0.06168822 0.06183851 0.05445074\n",
      " 0.1185528  0.06310424 0.06570848 0.06569522 0.0756287  0.07413163\n",
      " 0.0593779  0.06183851 0.06246838 0.06637499 0.05836016 0.05585847\n",
      " 0.06637499 0.06980263 0.06841235 0.3155422  0.07320252 0.06438108\n",
      " 0.10761417 0.07761639 0.06881287 0.06059652 0.06121457 0.0669262\n",
      " 0.05417323 0.08512336 0.071219   0.0643941  0.06839858 0.05818226\n",
      " 0.09872086 0.12302793 0.05580151 0.08673595 0.10066052 0.25001891\n",
      " 0.06183851 0.05042565 0.0643941  0.08863767 0.05467371 0.06841235\n",
      " 0.06834351 0.060806   0.09210156 0.06342443 0.06544363 0.04940082\n",
      " 0.05307649 0.07540239 0.06980263 0.1443917  0.05759295 0.062722\n",
      " 0.06570848 0.071219   0.09392472 0.04991074 0.07949353 0.05173502\n",
      " 0.09578015 0.06570848 0.06834351 0.19424049 0.08395258 0.05700924\n",
      " 0.0787064  0.10164298 0.05362221 0.05818226 0.07266187 0.09219196\n",
      " 0.09872086 0.06980263 0.0787064  0.0779264  0.12909845 0.08951447\n",
      " 0.0756287  0.06246838 0.09776357 0.08189824 0.0593779  0.05585847\n",
      " 0.07413163 0.05248224 0.20812888 0.08862021 0.06671059 0.07487673\n",
      " 0.08951447 0.06645539 0.0535674  0.08520755 0.07669312 0.06485133\n",
      " 0.08768215 0.09540646 0.0787064  0.06570848 0.08271442 0.10668377\n",
      " 0.06177585 0.06570848]\n"
     ]
    }
   ],
   "source": [
    "# Print out the predicted probabilities for the test data\n",
    "print(model.predict_proba(X_test)[:,1])"
   ]
  },
  {
   "cell_type": "code",
   "execution_count": 13,
   "id": "c3b6cb85",
   "metadata": {},
   "outputs": [
    {
     "data": {
      "image/png": "[encoded data removed]",
      "text/plain": [
       "<Figure size 432x288 with 1 Axes>"
      ]
     },
     "metadata": {
      "needs_background": "light"
     },
     "output_type": "display_data"
    },
    {
     "data": {
      "text/plain": [
       "<Figure size 432x288 with 0 Axes>"
      ]
     },
     "metadata": {},
     "output_type": "display_data"
    }
   ],
   "source": [
    "# Plug sample data into fitted model\n",
    "probability = model.predict_proba(X_test)[:,1]\n",
    "\n",
    "# Plot exam data\n",
    "plt.scatter(X_test,y_test,color='black')\n",
    "\n",
    "# Plot logistic curve\n",
    "plt.plot(X_test, probability, color='red', linewidth=1)\n",
    "plt.xlabel('Rent')\n",
    "plt.ylabel('Probability of gym')\n",
    "plt.show()\n",
    "plt.clf()"
   ]
  },
  {
   "cell_type": "markdown",
   "id": "7114f420",
   "metadata": {},
   "source": [
    "#### Conclusion\n",
    "\n",
    "Even though model accuracy is at 0.93 its recall and F1 score are very low. It provided with 18 False Negative values and only one True Positive (out of 19) on the test data. Given all that we can conclude that rent price can not be used as classifier for the gym availability. "
   ]
  },
  {
   "cell_type": "code",
   "execution_count": null,
   "id": "98e8566f",
   "metadata": {},
   "outputs": [],
   "source": []
  }
 ],
 "metadata": {
  "kernelspec": {
   "display_name": "Python 3 (ipykernel)",
   "language": "python",
   "name": "python3"
  },
  "language_info": {
   "codemirror_mode": {
    "name": "ipython",
    "version": 3
   },
   "file_extension": ".py",
   "mimetype": "text/x-python",
   "name": "python",
   "nbconvert_exporter": "python",
   "pygments_lexer": "ipython3",
   "version": "3.9.7"
  }
 },
 "nbformat": 4,
 "nbformat_minor": 5
}
